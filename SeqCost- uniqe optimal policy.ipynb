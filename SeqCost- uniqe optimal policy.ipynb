{
 "cells": [
  {
   "cell_type": "markdown",
   "metadata": {},
   "source": [
    "# import"
   ]
  },
  {
   "cell_type": "code",
   "execution_count": 184,
   "metadata": {},
   "outputs": [],
   "source": [
    "import numpy as np\n",
    "import pandas as pd\n",
    "\n",
    "import mdptoolbox\n",
    "import time as time\n",
    "import itertools\n",
    "import csv\n",
    "from decimal import *\n",
    "import pdb"
   ]
  },
  {
   "cell_type": "markdown",
   "metadata": {},
   "source": [
    "# Execute main functions"
   ]
  },
  {
   "cell_type": "code",
   "execution_count": 185,
   "metadata": {},
   "outputs": [],
   "source": [
    "#read main functions \n",
    "\n",
    "#Transition Probability Matrix\n",
    "transProb=open(r\"E:\\one-Drive\\OneDrive - Auburn University\\Auburn University\\RA\\GMS\\8-First Contribution\\Main Codes\\Transition Probability Matrix.py\",encoding=\"utf8\")\n",
    "read_transProb=transProb.read()\n",
    "exec(read_transProb)\n",
    "\n",
    "#Rewards\n",
    "Rewards=open(r\"E:\\one-Drive\\OneDrive - Auburn University\\Auburn University\\RA\\GMS\\8-First Contribution\\Main Codes\\Rewards.py\",encoding=\"utf8\")\n",
    "read_Rewards= Rewards.read()\n",
    "exec(read_Rewards)\n",
    "\n",
    "#Find Optimal Policies\n",
    "FOP=open(r\"E:\\one-Drive\\OneDrive - Auburn University\\Auburn University\\RA\\GMS\\8-First Contribution\\Main Codes\\Find Optimal Policies.py\",encoding=\"utf8\")\n",
    "read_FOP= FOP.read()\n",
    "exec(read_FOP)\n",
    "\n",
    "#Make a dictionary of all combinations and strategies\n",
    "MDCS=open(r\"E:\\one-Drive\\OneDrive - Auburn University\\Auburn University\\RA\\GMS\\8-First Contribution\\Main Codes\\Make a dictionary of all combinations and strategies.py\",encoding=\"utf8\")\n",
    "read_MDCS= MDCS.read()\n",
    "exec(read_MDCS)"
   ]
  },
  {
   "cell_type": "markdown",
   "metadata": {},
   "source": [
    "# DoE"
   ]
  },
  {
   "cell_type": "code",
   "execution_count": 186,
   "metadata": {},
   "outputs": [],
   "source": [
    "#range of sequencing cost\n",
    "q=np.arange(0,-627,-1)  #range of numbers for seq cost cost in array\n",
    "range_seqCost=q.tolist() #range of numbers for seq cost in list\n",
    "#range_seqCost"
   ]
  },
  {
   "cell_type": "code",
   "execution_count": 187,
   "metadata": {},
   "outputs": [],
   "source": [
    "\n",
    "def doe_sequencingCost(range_seqCost,z1,z2):\n",
    "\n",
    "    \n",
    "    P=newTransProb(z1, z2)   #Transition Probability MAtrix\n",
    "    \n",
    "    transitions=P.reshape(5,19,19)   #reshape the transtion probability matrix to (A,S,S)\n",
    " \n",
    "    \n",
    "    \n",
    "    #make a dictionary\n",
    "    value=[]\n",
    "    sCost=dict.fromkeys(range_seqCost,value)  #make dictionary for sequencing cost\n",
    "    General_keys1= sCost.keys()\n",
    "    General_keys=list(General_keys1)  #list of all keys\n",
    "    \n",
    "    \n",
    "    #for loop\n",
    "    for k in General_keys:\n",
    "        SeqCost=k\n",
    "\n",
    "        #rewards\n",
    "        R=rewards(SeqCost=k)    #do not forget to put SeqCost=k in th function \n",
    "        reward=R.reshape(19,5)\n",
    "        # Total cost use policy iteration method\n",
    "        discount=0.9999\n",
    "        pi=mdptoolbox.mdp.PolicyIteration(transitions, reward, discount=0.9999, policy0=None, max_iter=10000, eval_type=0)\n",
    "           # four 9s\n",
    "        #pi=mdptoolbox.mdp.ValueIteration(transitions, reward, discount, max_iter=10000)\n",
    "        #run the  Policy iteration\n",
    "        pi.run() \n",
    "\n",
    "        total_cost=pi.V\n",
    "        rounded_total_cost=round(total_cost[0],2)\n",
    "        #put all optimal Policies for Policy Iteration\n",
    "        policy=pi.policy\n",
    "        result=[]\n",
    "        \n",
    "        #values\n",
    "        #result.append(rounded_total_cost)\n",
    "        result.append(policy)\n",
    "        #put all total costs and policies as values in dictionary\n",
    "        sCost[SeqCost]=result     #do not use append and extend here\n",
    "\n",
    "\n",
    "    return sCost"
   ]
  },
  {
   "cell_type": "code",
   "execution_count": 188,
   "metadata": {
    "scrolled": false
   },
   "outputs": [],
   "source": [
    "#assign a sspecific variable to this experiment\n",
    "dsc=doe_sequencingCost(range_seqCost,z1=0.9,z2=0.1)          \n",
    "#dsc"
   ]
  },
  {
   "cell_type": "code",
   "execution_count": null,
   "metadata": {},
   "outputs": [],
   "source": []
  },
  {
   "cell_type": "markdown",
   "metadata": {},
   "source": [
    "# Find Optimal Policies"
   ]
  },
  {
   "cell_type": "code",
   "execution_count": 189,
   "metadata": {},
   "outputs": [
    {
     "data": {
      "text/plain": [
       "{'No-No': [],\n",
       " 'No-Gel': [],\n",
       " 'Gel-No': [[(0, 2, 2, 1, 1, 1, 4, 4, 4, 4, 4, 4, 4, 4, 4, 4, 4, 4, 0)]],\n",
       " 'Gel-Gel': [[(0, 2, 2, 2, 1, 1, 4, 4, 4, 4, 4, 4, 4, 4, 4, 4, 4, 4, 0)],\n",
       "  [(0, 2, 2, 2, 2, 1, 4, 4, 4, 4, 4, 4, 4, 4, 4, 4, 4, 4, 0)]],\n",
       " 'No-Bio': [],\n",
       " 'Bio-No': [],\n",
       " 'Bio-Bio': [],\n",
       " 'Seq-No': [[(0, 4, 1, 1, 1, 1, 4, 4, 4, 4, 4, 4, 4, 4, 4, 4, 4, 4, 0)],\n",
       "  [(0, 4, 2, 1, 1, 1, 4, 4, 4, 4, 4, 4, 4, 4, 4, 4, 4, 4, 0)]],\n",
       " 'Seq-Gel': [],\n",
       " 'Seq-Bio': [],\n",
       " 'Bio-Gel': [],\n",
       " 'Gel-Bio': []}"
      ]
     },
     "execution_count": 189,
     "metadata": {},
     "output_type": "execute_result"
    }
   ],
   "source": [
    "#it calls the function from Main Functions script\n",
    "fuop=dsc  #fuop is a constant name for a variable which gets the experiments\n",
    "opt_dict1=find_optimal_policies(fuop)   #the input is Fuop output is opt_dict\n",
    "opt_dict1"
   ]
  },
  {
   "cell_type": "markdown",
   "metadata": {},
   "source": [
    "# Make a dictionary of all combinations and strategies"
   ]
  },
  {
   "cell_type": "code",
   "execution_count": 190,
   "metadata": {},
   "outputs": [],
   "source": [
    "##it calls the function from Main Functions script\n",
    "dict_NGBS1=make_dict_comb_stra(fuop,opt_dict1)  \n",
    "#dict_NGBS1"
   ]
  },
  {
   "cell_type": "code",
   "execution_count": null,
   "metadata": {},
   "outputs": [],
   "source": []
  },
  {
   "cell_type": "markdown",
   "metadata": {},
   "source": [
    "# Strategies and Combinations in a dataframe"
   ]
  },
  {
   "cell_type": "code",
   "execution_count": 191,
   "metadata": {},
   "outputs": [],
   "source": [
    "# convvert dict_NBGS to list \n",
    "list_NBGS=list(dict_NGBS1.items())\n",
    "\n",
    "#seperate lists\n",
    "SeqCost=[]\n",
    "insp_stra=[]\n",
    "for i in range(len(list_NBGS)):\n",
    "    SeqCost.append(list_NBGS[i][0])\n",
    "    insp_stra.append(list_NBGS[i][1])\n",
    "    \n",
    "# make a dataframe from NBGS\n",
    "dt_NBGS=pd.DataFrame(list(zip(SeqCost,insp_stra)),columns=[\"Sequencing Cost\",'Inspection Strategy'])\n",
    "#show all combination and corresponding optimal policy in one table\n",
    "#pd.set_option('max_columns', None)  #show all columns\n",
    "#pd.set_option('max_rows', None)     #show all rows\n",
    "#dt_NBGS"
   ]
  },
  {
   "cell_type": "code",
   "execution_count": 192,
   "metadata": {},
   "outputs": [],
   "source": [
    "# Show the specific (Let's make life easier)\n",
    "dt_NBGS1=dt_NBGS.copy()"
   ]
  },
  {
   "cell_type": "code",
   "execution_count": 193,
   "metadata": {},
   "outputs": [],
   "source": [
    "dt_NBGS1[\"Seq-No\"]=\" \"\n",
    "dt_NBGS1['No-No']=\" \"\n",
    "dt_NBGS1['No-Gel']=\" \"\n",
    "dt_NBGS1[\"Gel-Gel\"]=\" \"\n",
    "\n",
    "dt_NBGS1[\"Gel-Bio\"]=\" \"\n",
    "dt_NBGS1[\"Gel-No\"]=\" \"\n",
    "dt_NBGS1[\"No-Bio\"]=\" \"\n",
    "dt_NBGS1[\"Bio-Gel\"]=\" \"\n",
    "\n",
    "dt_NBGS1[\"Bio-Bio\"]=\" \"\n",
    "dt_NBGS1[\"Bio-No\"]=\" \"\n",
    "#dt_NBGS1"
   ]
  },
  {
   "cell_type": "code",
   "execution_count": 194,
   "metadata": {},
   "outputs": [
    {
     "name": "stderr",
     "output_type": "stream",
     "text": [
      "C:\\TEMP/ipykernel_13656/2651748627.py:18: SettingWithCopyWarning: \n",
      "A value is trying to be set on a copy of a slice from a DataFrame\n",
      "\n",
      "See the caveats in the documentation: https://pandas.pydata.org/pandas-docs/stable/user_guide/indexing.html#returning-a-view-versus-a-copy\n",
      "  dt_NBGS1[\"Gel-No\"][i]=dt_NBGS1['Sequencing Cost'][i]\n",
      "C:\\TEMP/ipykernel_13656/2651748627.py:12: SettingWithCopyWarning: \n",
      "A value is trying to be set on a copy of a slice from a DataFrame\n",
      "\n",
      "See the caveats in the documentation: https://pandas.pydata.org/pandas-docs/stable/user_guide/indexing.html#returning-a-view-versus-a-copy\n",
      "  dt_NBGS1['Gel-Gel'][i]=dt_NBGS1['Sequencing Cost'][i]\n",
      "C:\\TEMP/ipykernel_13656/2651748627.py:3: SettingWithCopyWarning: \n",
      "A value is trying to be set on a copy of a slice from a DataFrame\n",
      "\n",
      "See the caveats in the documentation: https://pandas.pydata.org/pandas-docs/stable/user_guide/indexing.html#returning-a-view-versus-a-copy\n",
      "  dt_NBGS1[\"Seq-No\"][i]=dt_NBGS1['Sequencing Cost'][i]\n"
     ]
    }
   ],
   "source": [
    "for i in range(0, len(dt_NBGS1['Inspection Strategy'])):\n",
    "    if dt_NBGS1['Inspection Strategy'][i]==\"Seq-No\":\n",
    "            dt_NBGS1[\"Seq-No\"][i]=dt_NBGS1['Sequencing Cost'][i]\n",
    "\n",
    "    elif dt_NBGS1['Inspection Strategy'][i]=='No-No':\n",
    "            dt_NBGS1['No-No'][i]=dt_NBGS1['Sequencing Cost'][i]\n",
    "\n",
    "    elif dt_NBGS1['Inspection Strategy'][i]=='No-Gel':\n",
    "            dt_NBGS1['No-Gel'][i]=dt_NBGS1['Sequencing Cost'][i]\n",
    "            \n",
    "    elif dt_NBGS1['Inspection Strategy'][i]=='Gel-Gel':\n",
    "            dt_NBGS1['Gel-Gel'][i]=dt_NBGS1['Sequencing Cost'][i]        \n",
    "\n",
    "    elif dt_NBGS1['Inspection Strategy'][i]==\"Gel-Bio\":\n",
    "            dt_NBGS1[\"Gel-Bio\"][i]=dt_NBGS1['Sequencing Cost'][i]\n",
    "\n",
    "    elif dt_NBGS1['Inspection Strategy'][i]==\"Gel-No\":\n",
    "            dt_NBGS1[\"Gel-No\"][i]=dt_NBGS1['Sequencing Cost'][i]\n",
    "\n",
    "    elif dt_NBGS1['Inspection Strategy'][i]==\"No-Bio\":\n",
    "            dt_NBGS1[\"No-Bio\"][i]=dt_NBGS1['Sequencing Cost'][i]\n",
    "\n",
    "    elif dt_NBGS1['Inspection Strategy'][i]==\"Bio-Gel\":\n",
    "            dt_NBGS1[\"Bio-Gel\"][i]=dt_NBGS1['Sequencing Cost'][i]\n",
    "\n",
    "    elif dt_NBGS1['Inspection Strategy'][i]==\"Bio-Bio\":\n",
    "            dt_NBGS1[\"Bio-Bio\"][i]=dt_NBGS1['Sequencing Cost'][i]\n",
    "\n",
    "    elif dt_NBGS1['Inspection Strategy'][i]==\"Bio-No\":\n",
    "            dt_NBGS1[\"Bio-No\"][i]=dt_NBGS1['Sequencing Cost'][i]\n",
    "\n",
    "    else:\n",
    "        print(\"Something is wrong\")"
   ]
  },
  {
   "cell_type": "markdown",
   "metadata": {},
   "source": [
    "## Export to csv"
   ]
  },
  {
   "cell_type": "code",
   "execution_count": 195,
   "metadata": {},
   "outputs": [],
   "source": [
    "#dt_NBGS1\n",
    "dt_NBGS1.to_csv('my_dataframe.csv', index=False)"
   ]
  },
  {
   "cell_type": "code",
   "execution_count": null,
   "metadata": {},
   "outputs": [],
   "source": []
  },
  {
   "cell_type": "code",
   "execution_count": null,
   "metadata": {},
   "outputs": [],
   "source": []
  },
  {
   "cell_type": "code",
   "execution_count": null,
   "metadata": {},
   "outputs": [],
   "source": []
  }
 ],
 "metadata": {
  "kernelspec": {
   "display_name": "Python 3 (ipykernel)",
   "language": "python",
   "name": "python3"
  },
  "language_info": {
   "codemirror_mode": {
    "name": "ipython",
    "version": 3
   },
   "file_extension": ".py",
   "mimetype": "text/x-python",
   "name": "python",
   "nbconvert_exporter": "python",
   "pygments_lexer": "ipython3",
   "version": "3.8.8"
  }
 },
 "nbformat": 4,
 "nbformat_minor": 2
}
